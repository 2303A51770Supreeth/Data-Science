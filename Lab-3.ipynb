{
  "nbformat": 4,
  "nbformat_minor": 0,
  "metadata": {
    "colab": {
      "provenance": [],
      "authorship_tag": "ABX9TyNx5WQ5nbUMBMY2hq5ZEd8I",
      "include_colab_link": true
    },
    "kernelspec": {
      "name": "python3",
      "display_name": "Python 3"
    },
    "language_info": {
      "name": "python"
    }
  },
  "cells": [
    {
      "cell_type": "markdown",
      "metadata": {
        "id": "view-in-github",
        "colab_type": "text"
      },
      "source": [
        "<a href=\"https://colab.research.google.com/github/2303A51770Supreeth/Data-Science/blob/main/Lab-3.ipynb\" target=\"_parent\"><img src=\"https://colab.research.google.com/assets/colab-badge.svg\" alt=\"Open In Colab\"/></a>"
      ]
    },
    {
      "cell_type": "code",
      "execution_count": 1,
      "metadata": {
        "colab": {
          "base_uri": "https://localhost:8080/"
        },
        "id": "wdp2CI2TJFZx",
        "outputId": "ab482f43-fd83-42ed-ad49-9a242d62d242"
      },
      "outputs": [
        {
          "output_type": "stream",
          "name": "stdout",
          "text": [
            "Test Scores:\n",
            " [[54 90 30 63]\n",
            " [50 25 47 84]\n",
            " [ 4 98 55 11]\n",
            " [25 74  3 47]]\n",
            "\n",
            "Row-wise Means: [59.25 51.5  42.   37.25]\n",
            "Column-wise Means: [33.25 71.75 33.75 51.25]\n",
            "\n",
            "Standard Deviation: 28.788018340969565\n",
            "Variance: 828.75\n",
            "\n",
            "Max Value: 98 at index (np.int64(2), np.int64(1))\n",
            "Min Value: 3 at index (np.int64(3), np.int64(2))\n"
          ]
        }
      ],
      "source": [
        "import numpy as np\n",
        "\n",
        "scores = np.random.randint(0, 101, size=(4, 4))\n",
        "print(\"Test Scores:\\n\", scores)\n",
        "\n",
        "row_means = scores.mean(axis=1)\n",
        "col_means = scores.mean(axis=0)\n",
        "\n",
        "std_dev = scores.std()\n",
        "variance = scores.var()\n",
        "\n",
        "max_value = scores.max()\n",
        "min_value = scores.min()\n",
        "max_index = np.unravel_index(np.argmax(scores), scores.shape)\n",
        "min_index = np.unravel_index(np.argmin(scores), scores.shape)\n",
        "\n",
        "print(\"\\nRow-wise Means:\", row_means)\n",
        "print(\"Column-wise Means:\", col_means)\n",
        "print(\"\\nStandard Deviation:\", std_dev)\n",
        "print(\"Variance:\", variance)\n",
        "print(\"\\nMax Value:\", max_value, \"at index\", max_index)\n",
        "print(\"Min Value:\", min_value, \"at index\", min_index)\n"
      ]
    },
    {
      "cell_type": "code",
      "source": [
        "import numpy as np\n",
        "\n",
        "image = np.random.randint(0, 256, size=(3, 3, 3), dtype=np.uint8)\n",
        "print(\"RGB Image:\\n\", image)\n",
        "\n",
        "red = image[:, :, 0]\n",
        "green = image[:, :, 1]\n",
        "blue = image[:, :, 2]\n",
        "\n",
        "print(\"\\nRed Channel:\\n\", red)\n",
        "print(\"\\nGreen Channel:\\n\", green)\n",
        "print(\"\\nBlue Channel:\\n\", blue)\n",
        "\n",
        "avg_red = red.mean()\n",
        "avg_green = green.mean()\n",
        "avg_blue = blue.mean()\n",
        "\n",
        "print(\"\\nAverage Red:\", avg_red)\n",
        "print(\"Average Green:\", avg_green)\n",
        "print(\"Average Blue:\", avg_blue)\n",
        "\n",
        "brightened = np.clip(image + 50, 0, 255)\n",
        "print(\"\\nBrightened Image:\\n\", brightened)\n",
        "\n"
      ],
      "metadata": {
        "colab": {
          "base_uri": "https://localhost:8080/"
        },
        "id": "a70fz78tJjc1",
        "outputId": "3704bc3a-d0d3-4a76-bf51-cb9c40c163df"
      },
      "execution_count": 2,
      "outputs": [
        {
          "output_type": "stream",
          "name": "stdout",
          "text": [
            "RGB Image:\n",
            " [[[194 130   7]\n",
            "  [131 200 184]\n",
            "  [152 237 132]]\n",
            "\n",
            " [[187 119 181]\n",
            "  [216 140 227]\n",
            "  [ 89  95 251]]\n",
            "\n",
            " [[ 38 169 157]\n",
            "  [ 93 130 166]\n",
            "  [123 171  53]]]\n",
            "\n",
            "Red Channel:\n",
            " [[194 131 152]\n",
            " [187 216  89]\n",
            " [ 38  93 123]]\n",
            "\n",
            "Green Channel:\n",
            " [[130 200 237]\n",
            " [119 140  95]\n",
            " [169 130 171]]\n",
            "\n",
            "Blue Channel:\n",
            " [[  7 184 132]\n",
            " [181 227 251]\n",
            " [157 166  53]]\n",
            "\n",
            "Average Red: 135.88888888888889\n",
            "Average Green: 154.55555555555554\n",
            "Average Blue: 150.88888888888889\n",
            "\n",
            "Brightened Image:\n",
            " [[[244 180  57]\n",
            "  [181 250 234]\n",
            "  [202  31 182]]\n",
            "\n",
            " [[237 169 231]\n",
            "  [ 10 190  21]\n",
            "  [139 145  45]]\n",
            "\n",
            " [[ 88 219 207]\n",
            "  [143 180 216]\n",
            "  [173 221 103]]]\n"
          ]
        }
      ]
    }
  ]
}